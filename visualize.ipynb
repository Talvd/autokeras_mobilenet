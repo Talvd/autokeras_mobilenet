{
 "cells": [
  {
   "cell_type": "code",
   "execution_count": 1,
   "metadata": {},
   "outputs": [],
   "source": [
    "import os\n",
    "from graphviz import Digraph\n",
    "\n",
    "from autokeras.utils import pickle_from_file\n",
    "\n",
    "\n",
    "def to_pdf(graph, path):\n",
    "    dot = Digraph(comment='The Round Table')\n",
    "\n",
    "    for index, node in enumerate(graph.node_list):\n",
    "        dot.node(str(index), str(node.shape))\n",
    "\n",
    "    for u in range(graph.n_nodes):\n",
    "        for v, layer_id in graph.adj_list[u]:\n",
    "            dot.edge(str(u), str(v), str(graph.layer_list[layer_id]))\n",
    "\n",
    "    dot.render(path)\n",
    "\n",
    "\n",
    "def visualize(path):\n",
    "    cnn_module = pickle_from_file(os.path.join(path, 'module'))\n",
    "    cnn_module.searcher.path = path\n",
    "    for item in cnn_module.searcher.history:\n",
    "        model_id = item['model_id']\n",
    "        graph = cnn_module.searcher.load_model_by_id(model_id)\n",
    "        to_pdf(graph, os.path.join(path, str(model_id)))\n",
    "        print(\"{}: {}\".format(model_id,graph.size()))\n",
    "\n"
   ]
  },
  {
   "cell_type": "code",
   "execution_count": 2,
   "metadata": {},
   "outputs": [
    {
     "name": "stdout",
     "output_type": "stream",
     "text": [
      "0: 299986\n",
      "1: 299986\n",
      "2: 329490\n",
      "3: 533042\n",
      "4: 366418\n",
      "5: 538162\n",
      "6: 1101266\n",
      "7: 539426\n",
      "8: 1110602\n",
      "9: 1111106\n",
      "10: 1592330\n",
      "11: 1343402\n",
      "12: 1611002\n",
      "13: 2055530\n",
      "14: 3072122\n",
      "15: 3977450\n",
      "16: 3077242\n",
      "17: 3996122\n",
      "18: 5825450\n",
      "19: 5844122\n",
      "20: 6273050\n",
      "21: 5874650\n",
      "22: 6590906\n"
     ]
    }
   ],
   "source": [
    "if __name__ == '__main__':\n",
    "    visualize('automodels_mobilenet_1')"
   ]
  },
  {
   "cell_type": "code",
   "execution_count": 3,
   "metadata": {},
   "outputs": [
    {
     "name": "stdout",
     "output_type": "stream",
     "text": [
      "119547037146038801333356\n"
     ]
    }
   ],
   "source": [
    "path= 'automodels'\n",
    "graph =  pickle_from_file(os.path.join(path, 'temp_model'))\n",
    "print(graph)\n",
    "#to_pdf(graph, os.path.join(path, str(2)))"
   ]
  },
  {
   "cell_type": "code",
   "execution_count": null,
   "metadata": {},
   "outputs": [],
   "source": []
  }
 ],
 "metadata": {
  "kernelspec": {
   "display_name": "Python 3",
   "language": "python",
   "name": "python3"
  },
  "language_info": {
   "codemirror_mode": {
    "name": "ipython",
    "version": 3
   },
   "file_extension": ".py",
   "mimetype": "text/x-python",
   "name": "python",
   "nbconvert_exporter": "python",
   "pygments_lexer": "ipython3",
   "version": "3.6.7"
  }
 },
 "nbformat": 4,
 "nbformat_minor": 2
}
