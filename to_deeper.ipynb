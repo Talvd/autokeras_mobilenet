{
 "cells": [
  {
   "cell_type": "code",
   "execution_count": 1,
   "metadata": {},
   "outputs": [
    {
     "name": "stdout",
     "output_type": "stream",
     "text": [
      "TorchModel(\n",
      "  (0): Conv2d(3, 32, kernel_size=(3, 3), stride=(1, 1), padding=(1, 1))\n",
      "  (1): BatchNorm2d(32, eps=1e-05, momentum=0.1, affine=True, track_running_stats=True)\n",
      "  (2): ReLU()\n",
      "  (3): Conv2d(32, 32, kernel_size=(1, 1), stride=(1, 1))\n",
      "  (4): BatchNorm2d(32, eps=1e-05, momentum=0.1, affine=True, track_running_stats=True)\n",
      "  (5): ReLU()\n",
      "  (6): Conv2d(32, 32, kernel_size=(3, 3), stride=(1, 1), padding=(1, 1), groups=32)\n",
      "  (7): BatchNorm2d(32, eps=1e-05, momentum=0.1, affine=True, track_running_stats=True)\n",
      "  (8): ReLU()\n",
      "  (9): Conv2d(32, 16, kernel_size=(1, 1), stride=(1, 1))\n",
      "  (10): BatchNorm2d(16, eps=1e-05, momentum=0.1, affine=True, track_running_stats=True)\n",
      "  (11): Conv2d(16, 96, kernel_size=(1, 1), stride=(1, 1))\n",
      "  (12): BatchNorm2d(96, eps=1e-05, momentum=0.1, affine=True, track_running_stats=True)\n",
      "  (13): ReLU()\n",
      "  (14): Conv2d(96, 96, kernel_size=(3, 3), stride=(1, 1), padding=(1, 1), groups=96)\n",
      "  (15): BatchNorm2d(96, eps=1e-05, momentum=0.1, affine=True, track_running_stats=True)\n",
      "  (16): ReLU()\n",
      "  (17): Conv2d(96, 24, kernel_size=(1, 1), stride=(1, 1))\n",
      "  (18): BatchNorm2d(24, eps=1e-05, momentum=0.1, affine=True, track_running_stats=True)\n",
      "  (19): Conv2d(24, 144, kernel_size=(1, 1), stride=(1, 1))\n",
      "  (20): BatchNorm2d(144, eps=1e-05, momentum=0.1, affine=True, track_running_stats=True)\n",
      "  (21): ReLU()\n",
      "  (22): Conv2d(144, 144, kernel_size=(3, 3), stride=(1, 1), padding=(1, 1), groups=144)\n",
      "  (23): BatchNorm2d(144, eps=1e-05, momentum=0.1, affine=True, track_running_stats=True)\n",
      "  (24): ReLU()\n",
      "  (25): Conv2d(144, 24, kernel_size=(1, 1), stride=(1, 1))\n",
      "  (26): BatchNorm2d(24, eps=1e-05, momentum=0.1, affine=True, track_running_stats=True)\n",
      "  (27): Conv2d(24, 96, kernel_size=(1, 1), stride=(1, 1))\n",
      "  (28): BatchNorm2d(96, eps=1e-05, momentum=0.1, affine=True, track_running_stats=True)\n",
      "  (29): ReLU()\n",
      "  (30): GlobalAvgPool2d()\n",
      "  (31): Linear(in_features=96, out_features=10, bias=True)\n",
      ")\n"
     ]
    }
   ],
   "source": [
    "import autokeras as ak\n",
    "from autokeras.nn.generator import MobileNetV2Generator,CnnGenerator, ResNetGenerator\n",
    "from copy import deepcopy\n",
    "\n",
    "model = MobileNetV2Generator(10, (32, 32, 3)).generate(10,32).produce_model()\n",
    "model.set_weight_to_graph()\n",
    "graph = model.graph\n",
    "\n",
    "print(model)\n"
   ]
  },
  {
   "cell_type": "code",
   "execution_count": 2,
   "metadata": {},
   "outputs": [
    {
     "name": "stdout",
     "output_type": "stream",
     "text": [
      "[10, 18, 26]\n"
     ]
    }
   ],
   "source": [
    "weighted_layer_ids = graph.deep_layer_ids()\n",
    "\n",
    "print(weighted_layer_ids)\n"
   ]
  },
  {
   "cell_type": "code",
   "execution_count": 3,
   "metadata": {},
   "outputs": [],
   "source": [
    "from autokeras.net_transformer import to_deeper_graph\n",
    "\n",
    "temp_graph = to_deeper_graph(deepcopy(graph))\n"
   ]
  },
  {
   "cell_type": "code",
   "execution_count": 4,
   "metadata": {},
   "outputs": [
    {
     "name": "stdout",
     "output_type": "stream",
     "text": [
      "TorchModel(\n",
      "  (0): Conv2d(3, 32, kernel_size=(3, 3), stride=(1, 1), padding=(1, 1))\n",
      "  (1): BatchNorm2d(32, eps=1e-05, momentum=0.1, affine=True, track_running_stats=True)\n",
      "  (2): ReLU()\n",
      "  (3): Conv2d(32, 32, kernel_size=(1, 1), stride=(1, 1))\n",
      "  (4): BatchNorm2d(32, eps=1e-05, momentum=0.1, affine=True, track_running_stats=True)\n",
      "  (5): ReLU()\n",
      "  (6): Conv2d(32, 32, kernel_size=(3, 3), stride=(1, 1), padding=(1, 1), groups=32)\n",
      "  (7): BatchNorm2d(32, eps=1e-05, momentum=0.1, affine=True, track_running_stats=True)\n",
      "  (8): ReLU()\n",
      "  (9): Conv2d(32, 16, kernel_size=(1, 1), stride=(1, 1))\n",
      "  (10): BatchNorm2d(16, eps=1e-05, momentum=0.1, affine=True, track_running_stats=True)\n",
      "  (11): Conv2d(16, 96, kernel_size=(1, 1), stride=(1, 1))\n",
      "  (12): BatchNorm2d(96, eps=1e-05, momentum=0.1, affine=True, track_running_stats=True)\n",
      "  (13): ReLU()\n",
      "  (14): Conv2d(96, 96, kernel_size=(3, 3), stride=(1, 1), padding=(1, 1), groups=96)\n",
      "  (15): BatchNorm2d(96, eps=1e-05, momentum=0.1, affine=True, track_running_stats=True)\n",
      "  (16): ReLU()\n",
      "  (17): Conv2d(96, 24, kernel_size=(1, 1), stride=(1, 1))\n",
      "  (18): BatchNorm2d(24, eps=1e-05, momentum=0.1, affine=True, track_running_stats=True)\n",
      "  (19): Conv2d(24, 144, kernel_size=(1, 1), stride=(1, 1))\n",
      "  (20): BatchNorm2d(144, eps=1e-05, momentum=0.1, affine=True, track_running_stats=True)\n",
      "  (21): ReLU()\n",
      "  (22): Conv2d(144, 144, kernel_size=(3, 3), stride=(1, 1), padding=(1, 1), groups=144)\n",
      "  (23): BatchNorm2d(144, eps=1e-05, momentum=0.1, affine=True, track_running_stats=True)\n",
      "  (24): ReLU()\n",
      "  (25): Conv2d(144, 24, kernel_size=(1, 1), stride=(1, 1))\n",
      "  (26): BatchNorm2d(24, eps=1e-05, momentum=0.1, affine=True, track_running_stats=True)\n",
      "  (27): Conv2d(24, 96, kernel_size=(1, 1), stride=(1, 1))\n",
      "  (28): BatchNorm2d(96, eps=1e-05, momentum=0.1, affine=True, track_running_stats=True)\n",
      "  (29): ReLU()\n",
      "  (30): GlobalAvgPool2d()\n",
      "  (31): Linear(in_features=96, out_features=10, bias=True)\n",
      "  (32): Conv2d(24, 144, kernel_size=(1, 1), stride=(1, 1))\n",
      "  (33): BatchNorm2d(144, eps=1e-05, momentum=0.1, affine=True, track_running_stats=True)\n",
      "  (34): ReLU()\n",
      "  (35): Conv2d(144, 144, kernel_size=(3, 3), stride=(2, 2), padding=(1, 1), groups=144)\n",
      "  (36): BatchNorm2d(144, eps=1e-05, momentum=0.1, affine=True, track_running_stats=True)\n",
      "  (37): ReLU()\n",
      "  (38): Conv2d(144, 24, kernel_size=(1, 1), stride=(1, 1))\n",
      "  (39): BatchNorm2d(24, eps=1e-05, momentum=0.1, affine=True, track_running_stats=True)\n",
      ")\n"
     ]
    }
   ],
   "source": [
    "#temp_graph.weighted = False\n",
    "temp_model = temp_graph.produce_model()\n",
    "print(temp_model)"
   ]
  },
  {
   "cell_type": "code",
   "execution_count": 5,
   "metadata": {},
   "outputs": [
    {
     "name": "stdout",
     "output_type": "stream",
     "text": [
      "layer_id:0, input_channel:3, filters:32, groups:1, teacher_w:(32, 3, 3, 3), teacher_b: (32,)\n",
      "layer_id:3, input_channel:32, filters:32, groups:1, teacher_w:(32, 32, 1, 1), teacher_b: (32,)\n",
      "layer_id:6, input_channel:32, filters:32, groups:32, teacher_w:(32, 1, 3, 3), teacher_b: (32,)\n",
      "layer_id:9, input_channel:32, filters:16, groups:1, teacher_w:(16, 32, 1, 1), teacher_b: (16,)\n",
      "layer_id:11, input_channel:16, filters:96, groups:1, teacher_w:(96, 16, 1, 1), teacher_b: (96,)\n",
      "layer_id:14, input_channel:96, filters:96, groups:96, teacher_w:(96, 1, 3, 3), teacher_b: (96,)\n",
      "layer_id:17, input_channel:96, filters:24, groups:1, teacher_w:(24, 96, 1, 1), teacher_b: (24,)\n",
      "layer_id:19, input_channel:24, filters:144, groups:1, teacher_w:(144, 24, 1, 1), teacher_b: (144,)\n",
      "layer_id:22, input_channel:144, filters:144, groups:144, teacher_w:(144, 1, 3, 3), teacher_b: (144,)\n",
      "layer_id:25, input_channel:144, filters:24, groups:1, teacher_w:(24, 144, 1, 1), teacher_b: (24,)\n",
      "layer_id:27, input_channel:24, filters:96, groups:1, teacher_w:(96, 24, 1, 1), teacher_b: (96,)\n",
      "layer_id:31, input_shape:(96,),teacher_w:(10, 96), teacher_b: (10,)\n",
      "layer_id:32, input_channel:24, filters:144, groups:1, teacher_w:(144, 24, 1, 1), teacher_b: (144,)\n",
      "layer_id:35, input_channel:144, filters:144, groups:144, teacher_w:(144, 1, 3, 3), teacher_b: (144,)\n",
      "layer_id:38, input_channel:144, filters:24, groups:1, teacher_w:(24, 144, 1, 1), teacher_b: (24,)\n"
     ]
    }
   ],
   "source": [
    "from autokeras.nn.layers import is_layer, LayerType\n",
    "\n",
    "for i in range(len(temp_graph.layer_list)):\n",
    "    layer=temp_graph.layer_list[i]    \n",
    "    if is_layer(layer, LayerType.CONV):\n",
    "        if temp_graph.weighted:\n",
    "            teacher_w, teacher_b = layer.get_weights()\n",
    "            teacher_w = teacher_w.shape\n",
    "            teacher_b = teacher_b.shape\n",
    "        else:\n",
    "            teacher_w = 0\n",
    "            teacher_b = 0\n",
    "        print(\"layer_id:{}, input_channel:{}, filters:{}, groups:{}, teacher_w:{}, teacher_b: {}\".format(i,layer.input_channel,layer.filters,layer.groups,teacher_w, teacher_b))\n",
    "    elif is_layer(layer, LayerType.DENSE):\n",
    "        if temp_graph.weighted:\n",
    "            teacher_w, teacher_b = layer.get_weights()\n",
    "            teacher_w = teacher_w.shape\n",
    "            teacher_b = teacher_b.shape\n",
    "        else:\n",
    "            teacher_w = 0\n",
    "            teacher_b = 0\n",
    "        print(\"layer_id:{}, input_shape:{},teacher_w:{}, teacher_b: {}\".format(i,layer.input.shape,teacher_w, teacher_b))"
   ]
  },
  {
   "cell_type": "code",
   "execution_count": 6,
   "metadata": {},
   "outputs": [
    {
     "name": "stdout",
     "output_type": "stream",
     "text": [
      "torch.Size([2, 10])\n"
     ]
    }
   ],
   "source": [
    "import torch\n",
    "\n",
    "x = torch.randn(2,3,32,32)\n",
    "y2 = temp_model(x)\n",
    "print(y2.size())"
   ]
  },
  {
   "cell_type": "code",
   "execution_count": 7,
   "metadata": {},
   "outputs": [],
   "source": [
    "import os\n",
    "from graphviz import Digraph\n",
    "\n",
    "from autokeras.utils import pickle_from_file\n",
    "\n",
    "\n",
    "def to_pdf(graph, path):\n",
    "    dot = Digraph(comment='The Round Table')\n",
    "\n",
    "    for index, node in enumerate(graph.node_list):\n",
    "        dot.node(str(index), str(node.shape))\n",
    "\n",
    "    for u in range(graph.n_nodes):\n",
    "        for v, layer_id in graph.adj_list[u]:\n",
    "            dot.edge(str(u), str(v), str(graph.layer_list[layer_id]))\n",
    "\n",
    "    dot.render(path)\n"
   ]
  },
  {
   "cell_type": "code",
   "execution_count": 8,
   "metadata": {},
   "outputs": [],
   "source": [
    "to_pdf(temp_graph, 'deeper')"
   ]
  },
  {
   "cell_type": "code",
   "execution_count": 9,
   "metadata": {},
   "outputs": [
    {
     "name": "stdout",
     "output_type": "stream",
     "text": [
      "{0: [(1, 0)], 1: [(2, 1)], 2: [(3, 2)], 3: [(4, 3)], 4: [(5, 4)], 5: [(6, 5)], 6: [(7, 6)], 7: [(8, 7)], 8: [(9, 8)], 9: [(10, 9)], 10: [(11, 10)], 11: [(12, 11)], 12: [(13, 12)], 13: [(14, 13)], 14: [(15, 14)], 15: [(16, 15)], 16: [(17, 16)], 17: [(18, 17)], 18: [(33, 18)], 19: [(20, 19)], 20: [(21, 20)], 21: [(22, 21)], 22: [(23, 22)], 23: [(24, 23)], 24: [(25, 24)], 25: [(26, 25)], 26: [(27, 26)], 27: [(28, 27)], 28: [(29, 28)], 29: [(30, 29)], 30: [(31, 30)], 31: [(32, 31)], 32: [], 33: [(34, 32)], 34: [(35, 33)], 35: [(36, 34)], 36: [(37, 35)], 37: [(38, 36)], 38: [(39, 37)], 39: [(40, 38)], 40: [(19, 39)]}\n"
     ]
    }
   ],
   "source": [
    "print(temp_graph.adj_list)"
   ]
  },
  {
   "cell_type": "code",
   "execution_count": 10,
   "metadata": {},
   "outputs": [
    {
     "name": "stdout",
     "output_type": "stream",
     "text": [
      "[10, 18, 39, 26]\n"
     ]
    }
   ],
   "source": [
    "print(temp_graph.deep_layer_ids())"
   ]
  },
  {
   "cell_type": "code",
   "execution_count": 11,
   "metadata": {},
   "outputs": [
    {
     "name": "stdout",
     "output_type": "stream",
     "text": [
      "{0: [(1, 0)], 1: [(2, 1)], 2: [(3, 2)], 3: [(4, 3)], 4: [(5, 4)], 5: [(6, 5)], 6: [(7, 6)], 7: [(8, 7)], 8: [(9, 8)], 9: [(10, 9)], 10: [(11, 10)], 11: [(12, 11)], 12: [(13, 12)], 13: [(14, 13)], 14: [(15, 14)], 15: [(16, 15)], 16: [(17, 16)], 17: [(18, 17)], 18: [(19, 18)], 19: [(20, 19)], 20: [(21, 20)], 21: [(22, 21)], 22: [(23, 22)], 23: [(24, 23)], 24: [(25, 24)], 25: [(26, 25)], 26: [(27, 26)], 27: [(28, 27)], 28: [(29, 28)], 29: [(30, 29)], 30: [(31, 30)], 31: [(32, 31)], 32: []}\n"
     ]
    }
   ],
   "source": [
    "print(graph.adj_list)"
   ]
  },
  {
   "cell_type": "code",
   "execution_count": 12,
   "metadata": {},
   "outputs": [
    {
     "name": "stdout",
     "output_type": "stream",
     "text": [
      "0\n",
      "1\n",
      "2\n",
      "3\n",
      "4\n",
      "5\n",
      "6\n",
      "7\n",
      "8\n",
      "9\n",
      "10\n",
      "11\n",
      "12\n",
      "13\n",
      "14\n",
      "15\n",
      "16\n",
      "17\n",
      "18\n",
      "32\n",
      "33\n",
      "34\n",
      "35\n",
      "36\n",
      "37\n",
      "38\n",
      "39\n",
      "19\n",
      "20\n",
      "21\n",
      "22\n",
      "23\n",
      "24\n",
      "25\n",
      "26\n",
      "27\n",
      "28\n",
      "29\n",
      "30\n",
      "31\n"
     ]
    }
   ],
   "source": [
    "pre_layer = None\n",
    "for layer_id in temp_graph.get_main_chain_layers():\n",
    "    layer = temp_graph.layer_list[layer_id]\n",
    "    #if is_layer(layer, LayerType.GLOBAL_POOL):\n",
    "    #    break\n",
    "    if is_layer(layer, LayerType.ADD) or is_layer(layer, LayerType.CONCAT):\n",
    "        continue\n",
    "    #if is_layer(layer, LayerType.CONV) and (pre_layer is not None) and is_layer(pre_layer, LayerType.BATCH_NORM):\n",
    "    print(layer_id)\n",
    "    pre_layer = layer\n"
   ]
  }
 ],
 "metadata": {
  "kernelspec": {
   "display_name": "Python 3",
   "language": "python",
   "name": "python3"
  },
  "language_info": {
   "codemirror_mode": {
    "name": "ipython",
    "version": 3
   },
   "file_extension": ".py",
   "mimetype": "text/x-python",
   "name": "python",
   "nbconvert_exporter": "python",
   "pygments_lexer": "ipython3",
   "version": "3.6.7"
  }
 },
 "nbformat": 4,
 "nbformat_minor": 2
}
